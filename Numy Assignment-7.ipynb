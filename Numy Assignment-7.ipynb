{
 "cells": [
  {
   "cell_type": "code",
   "execution_count": 1,
   "metadata": {},
   "outputs": [
    {
     "name": "stdout",
     "output_type": "stream",
     "text": [
      "i    1 2 3 4 5 6 7 8 9 10 11 12 13\n",
      "==================================\n",
      "input [3, 5, 7, 2, 8, 10, 11, 65, 72, 81, 99, 100, 150]\n",
      "=======================================================\n",
      "y1 5.0 = ( 3 + 5 + 7 )/ 3\n",
      "y2 4.66666667 = ( 5 + 7 + 2 )/ 3\n",
      "y3   5.66666667 = ( 7 + 2 + 8 )/ 3\n",
      "y4         6.66666667 = ( 2 + 8 + 10 )/ 3\n",
      "y5               9.66666667 = ( 8 + 10 + 11 )/ 3\n",
      "y6                    28.66666667 = ( 10 + 11 + 65 )/ 3\n",
      "y7                          49.33333333 = ( 11 + 65 + 72 )/ 3\n",
      "y8                                72.66666667 = ( 65 + 72 + 81 )/ 3\n",
      "y9                                             84.0 = ( 72 + 81 + 99 )/ 3\n",
      "y10                                            93.33333333 = ( 81 + 99 + 100 )/ 3\n",
      "y11                                                 116.33333333 = ( 99 + 100 + 150 )/ 3\n",
      "                                      \n",
      "Moving average of array over a window is  11\n",
      "result element in list format\n",
      "[5.0, 4.66666667, 5.66666667, 6.66666667, 9.66666667, 28.66666667, 49.33333333, 72.66666667, 84.0, 93.33333333, 116.33333333]\n"
     ]
    }
   ],
   "source": [
    "# function to find moving average in an array over a window:\n",
    "def mov_arr(lst,k):\n",
    "  import math\n",
    "  choices = lst # The array to test\n",
    "  counter_k=k   # window defined for\n",
    "  counter_y=1   # Gives the number of records created\n",
    "  total_ele = len(choices) # total elements in the list\n",
    "  str_len=0  # to create the empty space to move\n",
    "  icnt = []  # print he element in the list on which test is to be made\n",
    "  for i in range(1, total_ele +1):\n",
    "    icnt.append(i)\n",
    "  print('i   ', ' '.join(map(str,icnt)))\n",
    "  print('==================================')\n",
    "  print('input',lst)\n",
    "  print('=======================================================')\n",
    "  for i in range(len(choices)):\n",
    "    if i+3 <= len(choices):\n",
    "      temp_result=0\n",
    "      temp_result= round((choices[i] + choices[i+1] +choices[i+2] )/counter_k,8) # average of k elements\n",
    "      ele.append(temp_result)\n",
    "      print('y'+str(counter_y) , str(temp_result).rjust(str_len) ,'=', '(',choices[i],'+', choices[i+1],'+', choices[i+2],')''/',counter_k  )\n",
    "      counter_y = counter_y + 1\n",
    "      str_len = str_len + 6\n",
    "  print('                                      ' )\n",
    "  mov_avg = (total_ele - counter_k + 1)  # moving average is calculated \n",
    "  return(mov_avg)\n",
    "  \n",
    "\n",
    "lst = [3, 5, 7, 2, 8, 10, 11, 65, 72, 81, 99, 100, 150]\n",
    "k = 3\n",
    "ele = []\n",
    "print('Moving average of array over a window is ',mov_arr(lst,k))\n",
    "print('result element in list format')\n",
    "print(ele)\n"
   ]
  },
  {
   "cell_type": "code",
   "execution_count": null,
   "metadata": {},
   "outputs": [],
   "source": []
  }
 ],
 "metadata": {
  "kernelspec": {
   "display_name": "Python 3",
   "language": "python",
   "name": "python3"
  },
  "language_info": {
   "codemirror_mode": {
    "name": "ipython",
    "version": 3
   },
   "file_extension": ".py",
   "mimetype": "text/x-python",
   "name": "python",
   "nbconvert_exporter": "python",
   "pygments_lexer": "ipython3",
   "version": "3.6.6"
  }
 },
 "nbformat": 4,
 "nbformat_minor": 2
}
